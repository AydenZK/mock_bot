{
 "cells": [
  {
   "cell_type": "code",
   "execution_count": 241,
   "metadata": {},
   "outputs": [],
   "source": [
    "import numpy as np\n",
    "import time"
   ]
  },
  {
   "cell_type": "code",
   "execution_count": 104,
   "metadata": {},
   "outputs": [
    {
     "data": {
      "text/plain": [
       "1048.2957507301371"
      ]
     },
     "execution_count": 104,
     "metadata": {},
     "output_type": "execute_result"
    }
   ],
   "source": [
    "t = 870\n",
    "\n",
    "np.random.normal(t, 50)"
   ]
  },
  {
   "cell_type": "code",
   "execution_count": 107,
   "metadata": {},
   "outputs": [
    {
     "data": {
      "text/plain": [
       "0.10295132270997953"
      ]
     },
     "execution_count": 107,
     "metadata": {},
     "output_type": "execute_result"
    }
   ],
   "source": [
    "np.random.random()"
   ]
  },
  {
   "cell_type": "code",
   "execution_count": 250,
   "metadata": {},
   "outputs": [],
   "source": [
    "# tick size 1\n",
    "\n",
    "MIN_MEAN = 10\n",
    "MAX_MEAN = 100\n",
    "VARIANCE = 5\n",
    "CROSS_PROB = 0.2\n",
    "\n",
    "side_map = {1: \"Bid\", 0: \"Offer\"}\n",
    "\n",
    "class Quote:\n",
    "    def __init__(self, price, side) -> None:\n",
    "        self.price = round(price)\n",
    "        self.side = side  # 1 = bid, # 0 = offer\n",
    "\n",
    "    def __repr__(self):\n",
    "        return f\"{side_map[self.side]} {self.price}\"\n",
    "\n",
    "class Book:\n",
    "    def __init__(self):\n",
    "        self.bids = []\n",
    "        self.offers = []\n",
    "    \n",
    "    def display(self):\n",
    "        bids = sorted(self.bids, reverse=True)\n",
    "        offers = sorted(self.offers, reverse=True)\n",
    "\n",
    "        for o in offers:\n",
    "            print(f'    | {o} ')\n",
    "        for b in bids:\n",
    "            print(f' {b} |  ')\n",
    "\n",
    "    def append_quote(self, quote):\n",
    "        if quote.side:\n",
    "            self.bids.append(quote.price)\n",
    "        else:\n",
    "            self.offers.append(quote.price)\n",
    "\n",
    "        \n",
    "class Bot:\n",
    "    def __init__(self):\n",
    "        self.theo = np.random.uniform(MIN_MEAN, MAX_MEAN)\n",
    "\n",
    "    def quote(self):\n",
    "        price = np.random.normal(self.theo, VARIANCE) \n",
    "        cross = np.random.random() < CROSS_PROB        \n",
    "        side = int(price < self.theo and not cross)\n",
    "\n",
    "        return Quote(price, side)\n",
    "\n",
    "\n",
    "\n",
    "class Game:\n",
    "    def __init__(self, iterations = 60):\n",
    "        self.bot = Bot()\n",
    "        self.book = Book()\n",
    "        self.iterations = iterations\n",
    "\n",
    "    \n",
    "    def start(self):\n",
    "        for _ in range(self.iterations):\n",
    "            q = self.bot.quote()\n",
    "            print(q)\n",
    "            self.book.append_quote(q)\n",
    "            time.sleep(1)\n",
    "            self.book.display()\n",
    "            time.sleep(3)\n",
    "            print(\"-\"*80)\n",
    "\n"
   ]
  },
  {
   "cell_type": "code",
   "execution_count": 251,
   "metadata": {},
   "outputs": [
    {
     "name": "stdout",
     "output_type": "stream",
     "text": [
      "Offer 56\n",
      "    | 56 \n",
      "--------------------------------------------------------------------------------\n",
      "Bid 48\n",
      "    | 56 \n",
      " 48 |  \n",
      "--------------------------------------------------------------------------------\n",
      "Offer 62\n",
      "    | 62 \n",
      "    | 56 \n",
      " 48 |  \n",
      "--------------------------------------------------------------------------------\n",
      "Offer 47\n",
      "    | 62 \n",
      "    | 56 \n",
      "    | 47 \n",
      " 48 |  \n",
      "--------------------------------------------------------------------------------\n",
      "Bid 47\n",
      "    | 62 \n",
      "    | 56 \n",
      "    | 47 \n",
      " 48 |  \n",
      " 47 |  \n",
      "--------------------------------------------------------------------------------\n",
      "Offer 50\n",
      "    | 62 \n",
      "    | 56 \n",
      "    | 50 \n",
      "    | 47 \n",
      " 48 |  \n",
      " 47 |  \n"
     ]
    },
    {
     "ename": "KeyboardInterrupt",
     "evalue": "",
     "output_type": "error",
     "traceback": [
      "\u001b[1;31m---------------------------------------------------------------------------\u001b[0m",
      "\u001b[1;31mKeyboardInterrupt\u001b[0m                         Traceback (most recent call last)",
      "Cell \u001b[1;32mIn[251], line 2\u001b[0m\n\u001b[0;32m      1\u001b[0m g \u001b[39m=\u001b[39m Game()\n\u001b[1;32m----> 2\u001b[0m g\u001b[39m.\u001b[39;49mstart()\n",
      "Cell \u001b[1;32mIn[250], line 66\u001b[0m, in \u001b[0;36mGame.start\u001b[1;34m(self)\u001b[0m\n\u001b[0;32m     64\u001b[0m time\u001b[39m.\u001b[39msleep(\u001b[39m1\u001b[39m)\n\u001b[0;32m     65\u001b[0m \u001b[39mself\u001b[39m\u001b[39m.\u001b[39mbook\u001b[39m.\u001b[39mdisplay()\n\u001b[1;32m---> 66\u001b[0m time\u001b[39m.\u001b[39;49msleep(\u001b[39m3\u001b[39;49m)\n\u001b[0;32m     67\u001b[0m \u001b[39mprint\u001b[39m(\u001b[39m\"\u001b[39m\u001b[39m-\u001b[39m\u001b[39m\"\u001b[39m\u001b[39m*\u001b[39m\u001b[39m80\u001b[39m)\n",
      "\u001b[1;31mKeyboardInterrupt\u001b[0m: "
     ]
    }
   ],
   "source": [
    "g = Game()\n",
    "g.start()"
   ]
  },
  {
   "cell_type": "code",
   "execution_count": 215,
   "metadata": {},
   "outputs": [
    {
     "name": "stdout",
     "output_type": "stream",
     "text": [
      "    | 34 \n",
      "    | 35 \n",
      "    | 37 \n",
      " 21 |  \n",
      " 25 |  \n",
      " 29 |  \n",
      " 31 |  \n"
     ]
    }
   ],
   "source": [
    "bk = Book()\n",
    "bk.bids = [21, 25, 29, 31]\n",
    "bk.offers = [34, 35, 37]\n",
    "\n",
    "bk.display()"
   ]
  },
  {
   "cell_type": "code",
   "execution_count": 236,
   "metadata": {},
   "outputs": [],
   "source": [
    "b = Bot()"
   ]
  },
  {
   "cell_type": "code",
   "execution_count": 217,
   "metadata": {},
   "outputs": [
    {
     "data": {
      "text/plain": [
       "43.53391091461828"
      ]
     },
     "execution_count": 217,
     "metadata": {},
     "output_type": "execute_result"
    }
   ],
   "source": [
    "b.theo"
   ]
  },
  {
   "cell_type": "code",
   "execution_count": 245,
   "metadata": {},
   "outputs": [
    {
     "data": {
      "text/plain": [
       "0"
      ]
     },
     "execution_count": 245,
     "metadata": {},
     "output_type": "execute_result"
    }
   ],
   "source": [
    "q.side"
   ]
  },
  {
   "cell_type": "code",
   "execution_count": 243,
   "metadata": {},
   "outputs": [
    {
     "name": "stdout",
     "output_type": "stream",
     "text": [
      "Offer 41\n"
     ]
    }
   ],
   "source": [
    "q = b.quote()\n",
    "print(q)"
   ]
  },
  {
   "cell_type": "code",
   "execution_count": 114,
   "metadata": {},
   "outputs": [
    {
     "name": "stdout",
     "output_type": "stream",
     "text": [
      "142.73100432074634\n",
      "True\n",
      "0\n"
     ]
    }
   ],
   "source": [
    "price = np.random.normal(100, VARIANCE)\n",
    "print(price)\n",
    "cross = np.random.random() < CROSS_PROB \n",
    "print(cross)       \n",
    "side = int(price < 100 and not cross)\n",
    "print(side)"
   ]
  }
 ],
 "metadata": {
  "kernelspec": {
   "display_name": "Python 3",
   "language": "python",
   "name": "python3"
  },
  "language_info": {
   "codemirror_mode": {
    "name": "ipython",
    "version": 3
   },
   "file_extension": ".py",
   "mimetype": "text/x-python",
   "name": "python",
   "nbconvert_exporter": "python",
   "pygments_lexer": "ipython3",
   "version": "3.9.12"
  },
  "orig_nbformat": 4,
  "vscode": {
   "interpreter": {
    "hash": "50aabcde812e72ea3899c66e6e8b0150a0d1e82d3f7cf3717b28f375de46c20f"
   }
  }
 },
 "nbformat": 4,
 "nbformat_minor": 2
}
